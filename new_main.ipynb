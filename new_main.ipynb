{
 "cells": [
  {
   "cell_type": "markdown",
   "metadata": {},
   "source": [
    "# Подготовка"
   ]
  },
  {
   "cell_type": "markdown",
   "metadata": {},
   "source": [
    "   Ниже закомментированный код, который помог мне переименовать изображения и подготовить датасет. Запускать его не следует, датасет будет в архиве.\n",
    "  Я отложил 100 изображений (50 часов и 50 крокодилов) для теста. Остальные 900 поворачиваем 3 раза, и делаем зеркальное отражение для каждой получившейся. Таким обазом, мы расширяем датасет, на котором обучаемся (теперь 7200 изображений) "
   ]
  },
  {
   "cell_type": "code",
   "execution_count": 29,
   "metadata": {
    "collapsed": true
   },
   "outputs": [],
   "source": [
    "#import numpy as np\n",
    "#import os\n",
    "#from PIL import Image, ImageDraw  \n",
    "#path = os.getcwd()\n",
    "#for u in np.arange(551,1001):\n",
    " #   os.chdir(path)\n",
    "  #  os.rename(str(u)+'.png', str(u-100)+'.png')\n",
    "#for u in np.arange(900,0,-1):\n",
    "#    os.chdir(path)\n",
    "#    os.rename(str(u)+'.png', str(u*8)+'.png')\n",
    "\n",
    "#for i in range(1,1001):\n",
    "#    os.chdir(path)\n",
    "#    image=Image.open(str(i*8)+'.png')\n",
    "#    im1=image.rotate(90)\n",
    "#    im1.save(str(i*8-7)+'.png')\n",
    "#    im2=im1.rotate(90)\n",
    "#    im2.save(str(i*8-6)+'.png')\n",
    "#    im3=im2.rotate(90)\n",
    "#    im3.save(str(i*8-5)+'.png')        \n",
    "#    im4=image.transpose(Image.FLIP_LEFT_RIGHT)\n",
    "#    im4.save(str(i*8-4)+'.png')\n",
    "#    im5=im1.transpose(Image.FLIP_LEFT_RIGHT)\n",
    "#    im5.save(str(i*8-3)+'.png')\n",
    "#    im6=im2.transpose(Image.FLIP_LEFT_RIGHT)\n",
    "#    im6.save(str(i*8-2)+'.png')\n",
    "#    im7=im3.transpose(Image.FLIP_LEFT_RIGHT)\n",
    "#    im7.save(str(i*8-1)+'.png')\n"
   ]
  },
  {
   "cell_type": "markdown",
   "metadata": {},
   "source": [
    "В качестве признаков я использовал:"
   ]
  },
  {
   "cell_type": "markdown",
   "metadata": {},
   "source": [
    " 1.Сумму по R, G, B каналам (3 нормированных числа)"
   ]
  },
  {
   "cell_type": "markdown",
   "metadata": {},
   "source": [
    "2.Гистограмма от черно-белой картинки. Она представляет из себя длинный вектор, который я разбиваю на 4 части и в каждой из частей усредняю числа. Аналогично для гистограмм от R, G, B каналов от цветной картинки. (В итоге 4 гистограммы)"
   ]
  },
  {
   "cell_type": "markdown",
   "metadata": {},
   "source": [
    "3.Вектор, который выдает метод HOG (библиотека skimage), гистограммы направленных градиентов"
   ]
  },
  {
   "cell_type": "code",
   "execution_count": 172,
   "metadata": {},
   "outputs": [],
   "source": [
    "import pandas as pd\n",
    "import numpy as np\n",
    "import math\n",
    "import random\n",
    "import os\n",
    "from PIL import Image, ImageDraw  \n",
    "from sklearn import cross_validation, linear_model, metrics, svm\n",
    "from sklearn.utils import shuffle\n",
    "from sklearn.preprocessing import scale\n",
    "from sklearn.model_selection import cross_val_score, train_test_split\n",
    "from skimage import feature\n",
    "from sklearn.metrics import roc_auc_score\n",
    "\n",
    "def histo(histogram):\n",
    "    k=0\n",
    "    f1=[]\n",
    "    for i in range(0,4):\n",
    "        summ=0\n",
    "        for j in range(k,k+64):\n",
    "            summ=summ+histogram[k]\n",
    "            k=k+1\n",
    "        f1.append(float(summ)/64)\n",
    "    return f1\n",
    "\n"
   ]
  },
  {
   "cell_type": "markdown",
   "metadata": {},
   "source": [
    "### Создание выборки"
   ]
  },
  {
   "cell_type": "code",
   "execution_count": 173,
   "metadata": {},
   "outputs": [],
   "source": [
    "features=range(0,343)\n",
    "data=pd.DataFrame(columns=features)\n",
    "target=[0]*3600+[1]*3600+[0]*50+[1]*50\n",
    "for t in range(1,7301):\n",
    "    image = Image.open(str(t)+'.png') \n",
    "    width = image.size[0] \n",
    "    height = image.size[1]\n",
    "    pix=image.load()\n",
    "    R,G,B=0,0,0\n",
    "    for i in range(width):\n",
    "        for j in range(height):\n",
    "            R = R + pix[i, j][0]\n",
    "            G = G + pix[i, j][1]\n",
    "            B = B + pix[i, j][2]\n",
    "    S=R+G+B\n",
    "    R=round(float(R)/S,3)\n",
    "    G=round(float(G)/S,3)\n",
    "    B=round(float(B)/S,3) \n",
    "    ch_b=image.convert(mode=\"L\")\n",
    "    hist_ch_b = ch_b.histogram()\n",
    "    k=0\n",
    "    hist=image.histogram()\n",
    "    f=histo(hist_ch_b)\n",
    "    hist1=hist[0:256]\n",
    "    hist2=hist[256:512]\n",
    "    hist3=hist[512:768]\n",
    "    f1=histo(hist1)\n",
    "    f2=histo(hist2)\n",
    "    f3=histo(hist3)\n",
    "    I = np.asarray(ch_b)\n",
    "    hog=feature.hog(I,orientations=9,feature_vector=True)\n",
    "    data.loc[t]=np.hstack(([R,G,B],f,f1,f2,f3,hog))\n",
    "data['target']=target"
   ]
  },
  {
   "cell_type": "markdown",
   "metadata": {},
   "source": [
    "### Масштабирование выборки"
   ]
  },
  {
   "cell_type": "code",
   "execution_count": 174,
   "metadata": {},
   "outputs": [],
   "source": [
    "X = scale(data[data.columns[:-1]])\n"
   ]
  },
  {
   "cell_type": "markdown",
   "metadata": {},
   "source": [
    "### Разбиение на трейн и тест"
   ]
  },
  {
   "cell_type": "code",
   "execution_count": 175,
   "metadata": {},
   "outputs": [],
   "source": [
    "X_train1=X[0:7200]\n",
    "X_test=X[7200:]\n",
    "y_train1=target[0:7200]\n",
    "y_test=target[7200:]\n",
    "\n",
    "\n",
    "A=pd.DataFrame(X_train1)\n",
    "A['target']=y_train1\n",
    "new_A=shuffle(A)\n",
    "X_train=new_A[new_A.columns[:-1]].as_matrix()\n",
    "y_train=np.asarray(new_A[new_A.columns[-1:]].as_matrix()).reshape(1,-1)[0]"
   ]
  },
  {
   "cell_type": "markdown",
   "metadata": {},
   "source": [
    "# Обучение"
   ]
  },
  {
   "cell_type": "markdown",
   "metadata": {},
   "source": [
    "В качестве модели использую метод опорных векторов (SVM), с предсказательной способностью. (probability=True)"
   ]
  },
  {
   "cell_type": "markdown",
   "metadata": {},
   "source": [
    "Подберем лучшие параметры на кросс-валидации. Варьирую C (штраф)"
   ]
  },
  {
   "cell_type": "code",
   "execution_count": 96,
   "metadata": {},
   "outputs": [
    {
     "name": "stdout",
     "output_type": "stream",
     "text": [
      "1.4000000000000004 0.9454166666666666\n"
     ]
    }
   ],
   "source": [
    "#a=[[]]\n",
    "#maxim=0.01\n",
    "#maxi=0\n",
    "#for i in np.arange(0.3, 2, 0.1):\n",
    "#    R = svm.SVC(C=i, probability=True)\n",
    "#    scores = cross_val_score(R, X_train, y_train, cv=3)\n",
    "#    cur=scores.mean()\n",
    "#    if cur>maxim:\n",
    "#        maxim=scores.mean()\n",
    "#        maxi=i\n",
    "\n",
    "\n",
    "            \n",
    "            \n",
    "#print maxi, maxim"
   ]
  },
  {
   "cell_type": "markdown",
   "metadata": {},
   "source": [
    "Возьмем С=1.5. Этот кусок считается очень долго, поэтому совсем честно проверить не успел. Возможно нужны значения побольше и варьировать другие параметры. Accuracy получился 0.945"
   ]
  },
  {
   "cell_type": "markdown",
   "metadata": {},
   "source": [
    "Обучаем машину и смотрим accuracy на тесте"
   ]
  },
  {
   "cell_type": "code",
   "execution_count": 176,
   "metadata": {},
   "outputs": [
    {
     "name": "stdout",
     "output_type": "stream",
     "text": [
      "accuracy =  0.93\n"
     ]
    }
   ],
   "source": [
    "my_svm=svm.SVC(C=1.5, probability=True)\n",
    "my_svm.fit(X_train,y_train)\n",
    "predictions = my_svm.predict(X_test)\n",
    "\n",
    "proba_predictions = my_svm.predict_proba(X_test)\n",
    "print 'accuracy = ', metrics.accuracy_score(y_test, predictions)"
   ]
  },
  {
   "cell_type": "markdown",
   "metadata": {},
   "source": [
    "На тестовой выборке accuracy=0.93"
   ]
  },
  {
   "cell_type": "markdown",
   "metadata": {},
   "source": [
    "# Похожие картинки"
   ]
  },
  {
   "cell_type": "markdown",
   "metadata": {},
   "source": [
    "Попросим обученный классификатор найти картинки, похожие и на часы, и на крокодила. У таких объектов вероятности принадлежности к классу близки к 0.5. Сначала подготовим базу данных без повернутых и отраженных картинок. "
   ]
  },
  {
   "cell_type": "code",
   "execution_count": 177,
   "metadata": {},
   "outputs": [],
   "source": [
    "data_1000=pd.DataFrame(columns=features)\n",
    "for i in range(0,900):\n",
    "    data_1000.loc[i]=data.loc[(i+1)*8]\n",
    "for i in range(900,1000):\n",
    "    data_1000.loc[i]=data.loc[i+6301]\n",
    "    \n",
    "\n",
    "X_1000=np.vstack((X_train1[7:7201:8],X_test))\n",
    "y_1000=np.hstack((y_train[7:7201:8],y_test))\n"
   ]
  },
  {
   "cell_type": "markdown",
   "metadata": {},
   "source": [
    "Теперь посмотрим, вероятности каких объектов лежат в пределах (0.44 ; 0.56), то есть близки к 0.5, что означает неуверенность машины."
   ]
  },
  {
   "cell_type": "code",
   "execution_count": 183,
   "metadata": {},
   "outputs": [
    {
     "name": "stdout",
     "output_type": "stream",
     "text": [
      "[258, 294, 379, 903, 939]\n"
     ]
    }
   ],
   "source": [
    "massiv=[]\n",
    "proba_predictions = my_svm.predict_proba(X_1000)\n",
    "e=1\n",
    "for r in proba_predictions:\n",
    "        if abs(r[0]-r[1])<0.12:\n",
    "            massiv.append(e)\n",
    "        e=e+1\n",
    "print massiv"
   ]
  },
  {
   "cell_type": "markdown",
   "metadata": {},
   "source": [
    "Выдает множество: [258, 294, 379, 903, 939]. Если перевести это на номера картинок в датасете(7300), то это:\n"
   ]
  },
  {
   "cell_type": "markdown",
   "metadata": {},
   "source": [
    "2072.png, 2352.png, 3032.png, 7204.png, 7240.png"
   ]
  },
  {
   "cell_type": "markdown",
   "metadata": {},
   "source": [
    "На 2072.png и 3032.png, как мне кажется, действительно неочевидно. Мы можем понять, что это часы только благодаря циферблату.  "
   ]
  },
  {
   "cell_type": "markdown",
   "metadata": {},
   "source": [
    "Мне кажется, что результат можно улучшить. Во-первых, я не успел разобраться в том, как работает HOG, может быть надо было варьировать его параметры и сильно укоротить выдаваемый вектор. Так же, надо лучше поработать с набором обычных признаков, возможно нецелесообразно добавлять гистограммы в том виде, в котором делал я. Во-вторых, здесь могли лучше сработать методы, которые используют словарь визуальных слов или выделяют геометрические формы, это помогло бы для отделения часов."
   ]
  },
  {
   "cell_type": "code",
   "execution_count": null,
   "metadata": {
    "collapsed": true
   },
   "outputs": [],
   "source": []
  }
 ],
 "metadata": {
  "kernelspec": {
   "display_name": "Python 2",
   "language": "python",
   "name": "python2"
  },
  "language_info": {
   "codemirror_mode": {
    "name": "ipython",
    "version": 2
   },
   "file_extension": ".py",
   "mimetype": "text/x-python",
   "name": "python",
   "nbconvert_exporter": "python",
   "pygments_lexer": "ipython2",
   "version": "2.7.14"
  }
 },
 "nbformat": 4,
 "nbformat_minor": 2
}
